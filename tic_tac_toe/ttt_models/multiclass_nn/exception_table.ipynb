{
 "cells": [
  {
   "cell_type": "code",
   "execution_count": 10,
   "metadata": {},
   "outputs": [],
   "source": [
    "import pandas as pd\n",
    "import numpy as np\n",
    "import torch    \n",
    "import csv\n",
    "import torch.nn as nn"
   ]
  },
  {
   "cell_type": "code",
   "execution_count": 12,
   "metadata": {},
   "outputs": [],
   "source": [
    "modelV5_param=torch.load('../AbrahamsWork/Models/tttModelV5.pth')\n",
    "modelV4_param=torch.load('../AbrahamsWork/Models/tttModelV4.pth')\n",
    "modelHashV1_param=torch.load('../AbrahamsWork/Models/tttHashModelV1.pth')"
   ]
  },
  {
   "cell_type": "code",
   "execution_count": 3,
   "metadata": {},
   "outputs": [],
   "source": [
    "data=pd.read_csv('../tic_tac_toe/tic_tac_toe.csv')"
   ]
  },
  {
   "cell_type": "code",
   "execution_count": 4,
   "metadata": {},
   "outputs": [
    {
     "name": "stdout",
     "output_type": "stream",
     "text": [
      "<class 'pandas.core.frame.DataFrame'>\n",
      "RangeIndex: 5478 entries, 0 to 5477\n",
      "Data columns (total 3 columns):\n",
      " #   Column      Non-Null Count  Dtype \n",
      "---  ------      --------------  ----- \n",
      " 0   String      5478 non-null   object\n",
      " 1   Value       5478 non-null   object\n",
      " 2   Remoteness  5478 non-null   int64 \n",
      "dtypes: int64(1), object(2)\n",
      "memory usage: 128.5+ KB\n"
     ]
    }
   ],
   "source": [
    "data.info()"
   ]
  },
  {
   "cell_type": "code",
   "execution_count": 5,
   "metadata": {},
   "outputs": [],
   "source": [
    "char_map = {\"x\":1, \"o\":2, \"-\":-1}\n",
    "data['String'] = data['String'].apply(lambda s: [char_map[c] for c in s])"
   ]
  },
  {
   "cell_type": "code",
   "execution_count": 11,
   "metadata": {},
   "outputs": [],
   "source": [
    "class NeuralNetwork(nn.Module):\n",
    "    def __init__(self):\n",
    "        super().__init__()\n",
    "        \n",
    "        self.linear_relu = nn.Sequential(\n",
    "            nn.Linear(9,16)\n",
    "        )\n",
    "        \n",
    "    def forward(self, input):\n",
    "        res = self.linear_relu(input)\n",
    "        return res\n"
   ]
  },
  {
   "cell_type": "code",
   "execution_count": 24,
   "metadata": {},
   "outputs": [],
   "source": [
    "\n",
    "# indices=['Lose0', 'Lose2', 'Lose4', 'Tie0', 'Tie1', 'Tie2', 'Tie3', 'Tie4', 'Tie5', 'Tie6', 'Tie7', 'Tie8', 'Tie9', 'Win1', 'Win3', 'Win5']"
   ]
  },
  {
   "cell_type": "code",
   "execution_count": 34,
   "metadata": {},
   "outputs": [],
   "source": [
    "indices=['10','12','14','20','21','22','23','24','25','26','27','28','29','01','03','05']"
   ]
  },
  {
   "cell_type": "code",
   "execution_count": 35,
   "metadata": {},
   "outputs": [
    {
     "data": {
      "text/plain": [
       "('1', 16)"
      ]
     },
     "execution_count": 35,
     "metadata": {},
     "output_type": "execute_result"
    }
   ],
   "source": [
    "indices[0][0],len(indices)"
   ]
  },
  {
   "cell_type": "code",
   "execution_count": 30,
   "metadata": {},
   "outputs": [
    {
     "data": {
      "text/plain": [
       "2"
      ]
     },
     "execution_count": 30,
     "metadata": {},
     "output_type": "execute_result"
    }
   ],
   "source": [
    "data['Value'][0]"
   ]
  },
  {
   "cell_type": "code",
   "execution_count": 28,
   "metadata": {},
   "outputs": [],
   "source": [
    "# Win,0\n",
    "# Lose,1\n",
    "# Tie,2\n",
    "data=data.replace('Win',0)\n",
    "data=data.replace('Lose',1)\n",
    "data=data.replace('Tie',2)"
   ]
  },
  {
   "cell_type": "code",
   "execution_count": 44,
   "metadata": {},
   "outputs": [],
   "source": [
    "modelV5=NeuralNetwork()\n",
    "modelV5.load_state_dict(modelV5_param)\n",
    "exception_table=[]\n",
    "with torch.no_grad():\n",
    "    for idx,i in enumerate(data['String'].values):\n",
    "        inputs_string=torch.tensor(i,dtype=torch.float32)\n",
    "        modelV5_output=modelV5(inputs_string)\n",
    "        val_rem_idx=torch.argmax(modelV5_output)\n",
    "        val,rem=int(indices[val_rem_idx][0]),int(indices[val_rem_idx][1])\n",
    "        val_target,rem_target=data['Value'][idx],data['Remoteness'][idx]\n",
    "        delta_val=val-val_target\n",
    "        delta_rem=rem-rem_target\n",
    "        if delta_val!=0 or delta_rem!=0:\n",
    "            str_rep=''\n",
    "            for j in i:\n",
    "                if j==1:\n",
    "                    str_rep+='x'\n",
    "                elif j==2:\n",
    "                    str_rep+='o'\n",
    "                else:\n",
    "                    str_rep+='-'\n",
    "            exception_table.append([str_rep,delta_val,delta_rem])\n",
    "\n",
    "        \n"
   ]
  },
  {
   "cell_type": "code",
   "execution_count": 43,
   "metadata": {},
   "outputs": [
    {
     "data": {
      "text/plain": [
       "2851"
      ]
     },
     "execution_count": 43,
     "metadata": {},
     "output_type": "execute_result"
    }
   ],
   "source": [
    "len(exception_table)"
   ]
  },
  {
   "cell_type": "code",
   "execution_count": 46,
   "metadata": {},
   "outputs": [],
   "source": [
    "csv_file = \"v5_exception_delta.csv\"\n",
    "\n",
    "import csv\n",
    "with open(csv_file, mode='w', newline='') as file:\n",
    "    writer = csv.writer(file)\n",
    "    writer.writerow(['String','Delta Value','Delta Remoteness'])\n",
    "    for row in exception_table:\n",
    "        writer.writerow(row)"
   ]
  },
  {
   "cell_type": "code",
   "execution_count": 47,
   "metadata": {},
   "outputs": [
    {
     "data": {
      "text/html": [
       "<div>\n",
       "<style scoped>\n",
       "    .dataframe tbody tr th:only-of-type {\n",
       "        vertical-align: middle;\n",
       "    }\n",
       "\n",
       "    .dataframe tbody tr th {\n",
       "        vertical-align: top;\n",
       "    }\n",
       "\n",
       "    .dataframe thead th {\n",
       "        text-align: right;\n",
       "    }\n",
       "</style>\n",
       "<table border=\"1\" class=\"dataframe\">\n",
       "  <thead>\n",
       "    <tr style=\"text-align: right;\">\n",
       "      <th></th>\n",
       "      <th>String</th>\n",
       "      <th>Delta Value</th>\n",
       "      <th>Delta Remoteness</th>\n",
       "    </tr>\n",
       "  </thead>\n",
       "  <tbody>\n",
       "    <tr>\n",
       "      <th>0</th>\n",
       "      <td>---------</td>\n",
       "      <td>0</td>\n",
       "      <td>-3</td>\n",
       "    </tr>\n",
       "    <tr>\n",
       "      <th>1</th>\n",
       "      <td>x--------</td>\n",
       "      <td>0</td>\n",
       "      <td>-2</td>\n",
       "    </tr>\n",
       "    <tr>\n",
       "      <th>2</th>\n",
       "      <td>-x-------</td>\n",
       "      <td>-2</td>\n",
       "      <td>-3</td>\n",
       "    </tr>\n",
       "    <tr>\n",
       "      <th>3</th>\n",
       "      <td>ox-------</td>\n",
       "      <td>-2</td>\n",
       "      <td>-2</td>\n",
       "    </tr>\n",
       "    <tr>\n",
       "      <th>4</th>\n",
       "      <td>-xo------</td>\n",
       "      <td>-2</td>\n",
       "      <td>-2</td>\n",
       "    </tr>\n",
       "    <tr>\n",
       "      <th>...</th>\n",
       "      <td>...</td>\n",
       "      <td>...</td>\n",
       "      <td>...</td>\n",
       "    </tr>\n",
       "    <tr>\n",
       "      <th>2846</th>\n",
       "      <td>o-o-oxxxx</td>\n",
       "      <td>-1</td>\n",
       "      <td>1</td>\n",
       "    </tr>\n",
       "    <tr>\n",
       "      <th>2847</th>\n",
       "      <td>-oo-oxxxx</td>\n",
       "      <td>-1</td>\n",
       "      <td>1</td>\n",
       "    </tr>\n",
       "    <tr>\n",
       "      <th>2848</th>\n",
       "      <td>o--ooxxxx</td>\n",
       "      <td>-1</td>\n",
       "      <td>1</td>\n",
       "    </tr>\n",
       "    <tr>\n",
       "      <th>2849</th>\n",
       "      <td>-o-ooxxxx</td>\n",
       "      <td>-1</td>\n",
       "      <td>1</td>\n",
       "    </tr>\n",
       "    <tr>\n",
       "      <th>2850</th>\n",
       "      <td>--oooxxxx</td>\n",
       "      <td>-1</td>\n",
       "      <td>1</td>\n",
       "    </tr>\n",
       "  </tbody>\n",
       "</table>\n",
       "<p>2851 rows × 3 columns</p>\n",
       "</div>"
      ],
      "text/plain": [
       "         String  Delta Value  Delta Remoteness\n",
       "0     ---------            0                -3\n",
       "1     x--------            0                -2\n",
       "2     -x-------           -2                -3\n",
       "3     ox-------           -2                -2\n",
       "4     -xo------           -2                -2\n",
       "...         ...          ...               ...\n",
       "2846  o-o-oxxxx           -1                 1\n",
       "2847  -oo-oxxxx           -1                 1\n",
       "2848  o--ooxxxx           -1                 1\n",
       "2849  -o-ooxxxx           -1                 1\n",
       "2850  --oooxxxx           -1                 1\n",
       "\n",
       "[2851 rows x 3 columns]"
      ]
     },
     "execution_count": 47,
     "metadata": {},
     "output_type": "execute_result"
    }
   ],
   "source": [
    "excV5=pd.read_csv('v5_exception_delta.csv',header=0)\n",
    "excV5"
   ]
  },
  {
   "cell_type": "code",
   "execution_count": 48,
   "metadata": {},
   "outputs": [
    {
     "name": "stdout",
     "output_type": "stream",
     "text": [
      "(-1,)    1403\n",
      "(-2,)     890\n",
      "(0,)      416\n",
      "(1,)      119\n",
      "(2,)       23\n",
      "Name: count, dtype: int64\n"
     ]
    }
   ],
   "source": [
    "last_column = excV5.iloc[:, -2:-1]\n",
    "count = last_column.apply(lambda x: tuple(x), axis=1).value_counts()\n",
    "print(count)"
   ]
  },
  {
   "cell_type": "code",
   "execution_count": 56,
   "metadata": {},
   "outputs": [],
   "source": [
    "\n",
    "dict_exc=excV5.to_dict()\n",
    "dict_exc.keys()\n",
    "with open(\"0_delta_value_V5.csv\", mode='w', newline='') as file:\n",
    "    writer = csv.writer(file)\n",
    "    writer.writerow(['String','Delta Remoteness'])\n",
    "    for i in range(len(dict_exc['Delta Value'])):\n",
    "        for key in dict_exc:\n",
    "            row=[dict_exc[key][i] for key in dict_exc if key!=\"Delta Value\"]\n",
    "            row.append(0)\n",
    "            # print(row)\n",
    "            if key==\"Delta Value\" and dict_exc[key][i]==0:\n",
    "                writer.writerow(row)\n"
   ]
  },
  {
   "cell_type": "code",
   "execution_count": 57,
   "metadata": {},
   "outputs": [],
   "source": [
    "with open(\"1_delta_value_V5.csv\", mode='w', newline='') as file:\n",
    "    writer = csv.writer(file)\n",
    "    for i in range(len(dict_exc['Delta Value'])):\n",
    "        for key in dict_exc:\n",
    "            row=[dict_exc[key][i] for key in dict_exc if key!=\"Delta Value\"]\n",
    "            # print(row)\n",
    "            if key==\"Delta Value\" and dict_exc[key][i]==1:\n",
    "                writer.writerow(row)\n",
    "           "
   ]
  },
  {
   "cell_type": "code",
   "execution_count": 58,
   "metadata": {},
   "outputs": [],
   "source": [
    "with open(\"2_delta_value_V5.csv\", mode='w', newline='') as file:\n",
    "    writer = csv.writer(file)\n",
    "    for i in range(len(dict_exc['Delta Value'])):\n",
    "        for key in dict_exc:\n",
    "            row=[dict_exc[key][i] for key in dict_exc if key!=\"Delta Value\"]\n",
    "            # print(row)\n",
    "            if key==\"Delta Value\" and dict_exc[key][i]==2:\n",
    "                writer.writerow(row)\n",
    "        "
   ]
  },
  {
   "cell_type": "code",
   "execution_count": 59,
   "metadata": {},
   "outputs": [],
   "source": [
    "with open(\"-1_delta_value_V5.csv\", mode='w', newline='') as file:\n",
    "    writer = csv.writer(file)\n",
    "    for i in range(len(dict_exc['Delta Value'])):\n",
    "        for key in dict_exc:\n",
    "            row=[dict_exc[key][i] for key in dict_exc if key!=\"Delta Value\"]\n",
    "            # print(row)\n",
    "            if key==\"Delta Value\" and dict_exc[key][i]==-1:\n",
    "                writer.writerow(row)\n",
    "        "
   ]
  },
  {
   "cell_type": "code",
   "execution_count": 60,
   "metadata": {},
   "outputs": [],
   "source": [
    "with open(\"-2_delta_value_V5.csv\", mode='w', newline='') as file:\n",
    "    writer = csv.writer(file)\n",
    "    for i in range(len(dict_exc['Delta Value'])):\n",
    "        for key in dict_exc:\n",
    "            row=[dict_exc[key][i] for key in dict_exc if key!=\"Delta Value\"]\n",
    "            # print(row)\n",
    "            if key==\"Delta Value\" and dict_exc[key][i]==-2:\n",
    "                writer.writerow(row)\n",
    "        "
   ]
  },
  {
   "cell_type": "markdown",
   "metadata": {},
   "source": [
    "all:49KB\n",
    "0&1&2&-1&-2<7+2+0.291+19+12=40.291KB\n",
    "model:<2KB\n",
    "\n",
    "original csv:119KB\n",
    "<!-- 小了一半 -->"
   ]
  }
 ],
 "metadata": {
  "kernelspec": {
   "display_name": "base",
   "language": "python",
   "name": "python3"
  },
  "language_info": {
   "codemirror_mode": {
    "name": "ipython",
    "version": 3
   },
   "file_extension": ".py",
   "mimetype": "text/x-python",
   "name": "python",
   "nbconvert_exporter": "python",
   "pygments_lexer": "ipython3",
   "version": "3.8.13"
  }
 },
 "nbformat": 4,
 "nbformat_minor": 2
}
